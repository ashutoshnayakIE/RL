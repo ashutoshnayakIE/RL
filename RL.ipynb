{
 "cells": [
  {
   "cell_type": "markdown",
   "metadata": {},
   "source": [
    "<h1><center>Reinforcement Learning</center></h1>"
   ]
  },
  {
   "cell_type": "markdown",
   "metadata": {},
   "source": [
    "We assume a knowledge and understanding of what reinforcement learning is. In reinforcement learning, an agent learns how to take actions based on the current state and expected future rewards to maximize its long term reward (e.g. winning a game). In this tutorial, we will go through the game of tic-tac to show how RL models are built. We will consider different methods of reinforcement learning that will show how to implement RL on a simple problem.\n",
    "\n",
    "RL is more of a modern day terminology in AI fields. Earlier, it was used to be called dynamic programming. It draws all its concepts and theorems and the famous Bells Equation. Please refer to the dynamic programming notebook to get an idea of what dynamic programming is."
   ]
  },
  {
   "cell_type": "markdown",
   "metadata": {},
   "source": [
    "<h2>3x3 Tic-tac</h2>\n",
    "\n",
    "A player wins a tic-tac game when they mark three spaces in a straight line. We can represent it in code as:"
   ]
  },
  {
   "cell_type": "code",
   "execution_count": 46,
   "metadata": {},
   "outputs": [],
   "source": [
    "import matplotlib.pyplot as plt\n",
    "import random\n",
    "import math\n",
    "import sys\n",
    "\n",
    "if not sys.warnoptions:\n",
    "    import warnings\n",
    "    warnings.simplefilter(\"ignore\")"
   ]
  },
  {
   "cell_type": "code",
   "execution_count": 75,
   "metadata": {},
   "outputs": [],
   "source": [
    "global fig, space, space_location, winnig_sequence"
   ]
  },
  {
   "cell_type": "code",
   "execution_count": 76,
   "metadata": {
    "code_folding": [
     6,
     26
    ]
   },
   "outputs": [
    {
     "name": "stdout",
     "output_type": "stream",
     "text": [
      "result is: 1\n"
     ]
    },
    {
     "data": {
      "image/png": "[encoded data removed]",
      "text/plain": [
       "<Figure size 720x288 with 2 Axes>"
      ]
     },
     "metadata": {
      "needs_background": "light"
     },
     "output_type": "display_data"
    }
   ],
   "source": [
    "space = [0,1,2,3,4,5,6,7,8]\n",
    "space_location = {}\n",
    "    \n",
    "# drawing a sample game when a user wins\n",
    "fig = plt.figure(figsize=(10,4))\n",
    "\n",
    "def show_board():\n",
    "    plt.subplot(1,2,1)\n",
    "    for r in range(4):\n",
    "        line = plt.Line2D((r, r), (0, 3), lw=1.5)\n",
    "        plt.gca().add_line(line)\n",
    "    for c in range(4):\n",
    "        line = plt.Line2D((0, 3), (c, c), lw=1.5)\n",
    "        plt.gca().add_line(line)\n",
    "        \n",
    "    for r in range(3):\n",
    "        for c in range(3):\n",
    "            space_location[r*3+c] = [r+0.5,c+0.5]\n",
    "            plt.text(r+0.5, c+0.5, str(r*3+c), fontsize=12)\n",
    "\n",
    "    plt.xlim([0,3])\n",
    "    plt.ylim([0,3])\n",
    "    plt.xticks()\n",
    "    plt.yticks()\n",
    "    plt.axis('off')\n",
    "\n",
    "def show_game(player1,player2):\n",
    "    plt.subplot(1,2,2)\n",
    "    for r in range(4):\n",
    "        line = plt.Line2D((r, r), (0, 3), lw=1.5)\n",
    "        plt.gca().add_line(line)\n",
    "    for c in range(4):\n",
    "        line = plt.Line2D((0, 3), (c, c), lw=1.5)\n",
    "        plt.gca().add_line(line)\n",
    "        \n",
    "    for s1 in player1:\n",
    "        x = space_location[s1][0]-0.1\n",
    "        y = space_location[s1][1]-0.1\n",
    "        rectangle = plt.Rectangle((x, y), 0.2, 0.2, fc='r')\n",
    "        plt.gca().add_patch(rectangle)\n",
    "        \n",
    "    for s2 in player2:\n",
    "        x = space_location[s2][0]-0.1\n",
    "        y = space_location[s2][1]-0.1\n",
    "        rectangle = plt.Rectangle((x, y), 0.2, 0.2, fc='b')\n",
    "        plt.gca().add_patch(rectangle)\n",
    "\n",
    "    plt.xlim([0,3])\n",
    "    plt.ylim([0,3])\n",
    "    plt.xticks()\n",
    "    plt.yticks()\n",
    "    plt.axis('off')\n",
    "\n",
    "show_board()\n",
    "\n",
    "player1 = [0,2,4,8]\n",
    "player2 = [1,3,6,7]\n",
    "\n",
    "show_game(player1,player2)\n",
    "\n",
    "# the possible winnig combinations (its a small set so we can enumerate): 8 combinations\n",
    "\n",
    "winnig_sequence = [[0,3,6],[1,4,7],[2,5,8],[0,1,2],[3,4,5],[6,7,8],[0,4,8],[2,4,6]]\n",
    "\n",
    "# create a function to see who wins (1,2,3,4) 1: player 1 wins, 2: player 2 wins, 3: draw, 4: game not over\n",
    "def winner(player1, player2):\n",
    "    for s in winnig_sequence:\n",
    "        if set(s).intersection(set(player1)) == set(s):\n",
    "            return(1)       # player 1 wins\n",
    "        if set(s).intersection(set(player2)) == set(s):\n",
    "            return(2)       # player 2 wins\n",
    "        \n",
    "    if len(player1)+len(player2) < 9:\n",
    "        return(4)       # match not over and can be played\n",
    "    else:\n",
    "        return(3)       # match over and its a draw\n",
    "        \n",
    "result = winner(player1,player2)\n",
    "print('result is:', result)"
   ]
  },
  {
   "cell_type": "code",
   "execution_count": 72,
   "metadata": {},
   "outputs": [
    {
     "name": "stdout",
     "output_type": "stream",
     "text": [
      "yes\n"
     ]
    }
   ],
   "source": [
    "a = set([0,8,4,2]); b = set([0,4,8])\n",
    "if b.intersection(a) == b:\n",
    "    print('yes')"
   ]
  },
  {
   "cell_type": "code",
   "execution_count": null,
   "metadata": {},
   "outputs": [],
   "source": []
  }
 ],
 "metadata": {
  "hide_input": false,
  "kernelspec": {
   "display_name": "Python 3",
   "language": "python",
   "name": "python3"
  },
  "language_info": {
   "codemirror_mode": {
    "name": "ipython",
    "version": 3
   },
   "file_extension": ".py",
   "mimetype": "text/x-python",
   "name": "python",
   "nbconvert_exporter": "python",
   "pygments_lexer": "ipython3",
   "version": "3.7.3"
  },
  "toc": {
   "base_numbering": 1,
   "nav_menu": {},
   "number_sections": true,
   "sideBar": true,
   "skip_h1_title": true,
   "title_cell": "Table of Contents",
   "title_sidebar": "Contents",
   "toc_cell": false,
   "toc_position": {},
   "toc_section_display": true,
   "toc_window_display": true
  },
  "varInspector": {
   "cols": {
    "lenName": 16,
    "lenType": 16,
    "lenVar": 40
   },
   "kernels_config": {
    "python": {
     "delete_cmd_postfix": "",
     "delete_cmd_prefix": "del ",
     "library": "var_list.py",
     "varRefreshCmd": "print(var_dic_list())"
    },
    "r": {
     "delete_cmd_postfix": ") ",
     "delete_cmd_prefix": "rm(",
     "library": "var_list.r",
     "varRefreshCmd": "cat(var_dic_list()) "
    }
   },
   "types_to_exclude": [
    "module",
    "function",
    "builtin_function_or_method",
    "instance",
    "_Feature"
   ],
   "window_display": false
  }
 },
 "nbformat": 4,
 "nbformat_minor": 2
}
